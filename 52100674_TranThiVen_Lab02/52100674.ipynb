{
 "cells": [
  {
   "cell_type": "code",
   "execution_count": 3,
   "id": "c7f1d214",
   "metadata": {},
   "outputs": [
    {
     "name": "stdout",
     "output_type": "stream",
     "text": [
      "Tham số theta sau khi học:\n",
      "[1.10799796 0.00361834 1.11161631 2.21961427]\n",
      "Dự đoán cho dữ liệu mới:\n",
      "[9.99369173]\n"
     ]
    }
   ],
   "source": [
    "import numpy as np\n",
    "\n",
    "# Khởi tạo dữ liệu mẫu (X: ma trận đặc trưng, y: vector đầu ra)\n",
    "X = np.array([[1, 2, 3],\n",
    "              [4, 5, 6],\n",
    "              [7, 8, 9]])\n",
    "y = np.array([10, 20, 30])\n",
    "\n",
    "# Số lượng mẫu và số lượng đặc trưng\n",
    "m, n = X.shape\n",
    "\n",
    "# Khởi tạo các tham số (theta) ban đầu\n",
    "theta = np.zeros(n + 1)\n",
    "\n",
    "# Siêu tham số\n",
    "alpha = 0.01\n",
    "iterations = 1000\n",
    "\n",
    "# Thêm cột 1 vào ma trận X cho bias term\n",
    "X = np.column_stack((np.ones(m), X))\n",
    "\n",
    "# Gradient Descent\n",
    "for _ in range(iterations):\n",
    "    # Tính dự đoán\n",
    "    predictions = np.dot(X, theta)\n",
    "    \n",
    "    # Tính sai số\n",
    "    errors = predictions - y\n",
    "    \n",
    "    # Cập nhật tham số theta\n",
    "    theta -= (alpha / m) * np.dot(X.T, errors)\n",
    "\n",
    "# Sử dụng các tham số cuối cùng cho việc dự đoán\n",
    "X_new = np.array([[1, 2, 3]])  # Dữ liệu mới cần dự đoán\n",
    "X_new = np.column_stack((np.ones(1), X_new))  # Thêm cột 1 cho bias term\n",
    "final_predictions = np.dot(X_new, theta)\n",
    "\n",
    "print(\"Tham số theta sau khi học:\")\n",
    "print(theta)\n",
    "print(\"Dự đoán cho dữ liệu mới:\")\n",
    "print(final_predictions)\n"
   ]
  }
 ],
 "metadata": {
  "kernelspec": {
   "display_name": "Python 3 (ipykernel)",
   "language": "python",
   "name": "python3"
  },
  "language_info": {
   "codemirror_mode": {
    "name": "ipython",
    "version": 3
   },
   "file_extension": ".py",
   "mimetype": "text/x-python",
   "name": "python",
   "nbconvert_exporter": "python",
   "pygments_lexer": "ipython3",
   "version": "3.11.4"
  }
 },
 "nbformat": 4,
 "nbformat_minor": 5
}
