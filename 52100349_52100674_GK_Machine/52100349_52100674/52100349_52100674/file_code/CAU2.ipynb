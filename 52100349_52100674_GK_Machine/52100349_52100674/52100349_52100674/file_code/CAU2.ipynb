{
 "cells": [
  {
   "cell_type": "code",
   "execution_count": 1,
   "id": "4209467a",
   "metadata": {},
   "outputs": [],
   "source": [
    "import pandas as pd\n",
    "import numpy as np"
   ]
  },
  {
   "cell_type": "code",
   "execution_count": 2,
   "id": "c7419559",
   "metadata": {},
   "outputs": [
    {
     "name": "stdout",
     "output_type": "stream",
     "text": [
      "(7043, 21)\n"
     ]
    }
   ],
   "source": [
    "filename='customer_churn.csv'\n",
    "df = pd.read_csv(filename)\n",
    "df.head(5)\n",
    "print(df.shape)"
   ]
  },
  {
   "cell_type": "code",
   "execution_count": 3,
   "id": "c6f122f6",
   "metadata": {},
   "outputs": [],
   "source": [
    "# Loại bỏ cột \"customerID\" khỏi dữ liệu\n",
    "df = df.drop(\"customerID\", axis=1)"
   ]
  },
  {
   "cell_type": "code",
   "execution_count": 4,
   "id": "16897a83",
   "metadata": {},
   "outputs": [],
   "source": [
    "name=list(df.columns)\n",
    "df['TotalCharges'] = pd.to_numeric(df['TotalCharges'], errors='coerce')"
   ]
  },
  {
   "cell_type": "code",
   "execution_count": 5,
   "id": "ec82dd29",
   "metadata": {},
   "outputs": [
    {
     "name": "stdout",
     "output_type": "stream",
     "text": [
      "gender               object\n",
      "SeniorCitizen         int64\n",
      "Partner              object\n",
      "Dependents           object\n",
      "tenure                int64\n",
      "PhoneService         object\n",
      "MultipleLines        object\n",
      "InternetService      object\n",
      "OnlineSecurity       object\n",
      "OnlineBackup         object\n",
      "DeviceProtection     object\n",
      "TechSupport          object\n",
      "StreamingTV          object\n",
      "StreamingMovies      object\n",
      "Contract             object\n",
      "PaperlessBilling     object\n",
      "PaymentMethod        object\n",
      "MonthlyCharges      float64\n",
      "TotalCharges        float64\n",
      "Churn                object\n",
      "dtype: object\n"
     ]
    }
   ],
   "source": [
    "types =df.dtypes\n",
    "print(types)"
   ]
  },
  {
   "cell_type": "code",
   "execution_count": 6,
   "id": "23d67043",
   "metadata": {},
   "outputs": [],
   "source": [
    "# Xử lý giá trị thiếu (nếu có)\n",
    "df.dropna(inplace=True)"
   ]
  },
  {
   "cell_type": "code",
   "execution_count": null,
   "id": "f9e38244",
   "metadata": {},
   "outputs": [],
   "source": []
  },
  {
   "cell_type": "code",
   "execution_count": 7,
   "id": "4bae233a",
   "metadata": {},
   "outputs": [],
   "source": [
    "from sklearn.preprocessing import LabelEncoder\n",
    "le = LabelEncoder()\n",
    "for i in range(0,len(types)):\n",
    "    if types[i]=='object':\n",
    "            le.fit_transform(df[name[i]])\n",
    "            df[name[i]]=le.transform(df[name[i]])"
   ]
  },
  {
   "cell_type": "code",
   "execution_count": 8,
   "id": "5b6a2581",
   "metadata": {},
   "outputs": [
    {
     "name": "stdout",
     "output_type": "stream",
     "text": [
      "[ 0.    0.    1.    0.    1.    0.    1.    0.    0.    2.    0.    0.\n",
      "  0.    0.    0.    1.    2.   29.85 29.85]\n",
      "0.0\n"
     ]
    }
   ],
   "source": [
    "data= df.values\n",
    "x= data[:,:-1]\n",
    "y= data[:,-1]\n",
    "print(x[0])\n",
    "print(y[0])"
   ]
  },
  {
   "cell_type": "code",
   "execution_count": 9,
   "id": "a7c32d17",
   "metadata": {},
   "outputs": [
    {
     "name": "stdout",
     "output_type": "stream",
     "text": [
      "[0.         0.         1.         0.         0.         0.\n",
      " 0.5        0.         0.         1.         0.         0.\n",
      " 0.         0.         0.         1.         0.66666667 0.11542289\n",
      " 0.0012751 ]\n"
     ]
    }
   ],
   "source": [
    "from sklearn.preprocessing import MinMaxScaler\n",
    "scaler =MinMaxScaler()\n",
    "scaler.fit(x)\n",
    "X_scaler =scaler.transform(x)\n",
    "print(X_scaler[0])"
   ]
  },
  {
   "cell_type": "code",
   "execution_count": 10,
   "id": "2fb9540e",
   "metadata": {},
   "outputs": [
    {
     "name": "stdout",
     "output_type": "stream",
     "text": [
      "[1. 1. 1. ... 0. 0. 1.]\n"
     ]
    }
   ],
   "source": [
    "from sklearn.model_selection import train_test_split\n",
    "x_train,x_test,y_train,y_test=\\\n",
    "train_test_split(X_scaler,y,test_size=0.2,random_state=42)\n",
    "print(y_train)"
   ]
  },
  {
   "cell_type": "code",
   "execution_count": 11,
   "id": "d38e8f26",
   "metadata": {},
   "outputs": [
    {
     "name": "stdout",
     "output_type": "stream",
     "text": [
      "{'n_neighbors': 9}\n"
     ]
    }
   ],
   "source": [
    "from sklearn.linear_model import LogisticRegression\n",
    "from sklearn.neighbors import KNeighborsClassifier\n",
    "from sklearn.tree import DecisionTreeClassifier\n",
    "from sklearn.naive_bayes import GaussianNB\n",
    "from sklearn.model_selection import GridSearchCV\n",
    "\n",
    "params = {'n_neighbors': [1,3,5,7,9]}\n",
    "grid_search = GridSearchCV(KNeighborsClassifier(), params, cv=5) \n",
    "grid_search.fit(x_train, y_train)\n",
    "\n",
    "print(grid_search.best_params_)"
   ]
  },
  {
   "cell_type": "code",
   "execution_count": 12,
   "id": "9197fde0",
   "metadata": {},
   "outputs": [
    {
     "name": "stdout",
     "output_type": "stream",
     "text": [
      "[0. 0. 1. ... 0. 0. 0.]\n",
      "[0. 0. 1. ... 0. 0. 0.]\n",
      "[0. 0. 1. ... 0. 0. 0.]\n",
      "[0. 0. 1. ... 0. 0. 0.]\n"
     ]
    }
   ],
   "source": [
    "# Initialize the models\n",
    "Logistic_reg = LogisticRegression()\n",
    "best_n_neighbors= grid_search.best_params_['n_neighbors']\n",
    "knn = KNeighborsClassifier(n_neighbors=best_n_neighbors)  # You can adjust the number of neighbors (k) as needed\n",
    "tree=DecisionTreeClassifier()\n",
    "gaussian_nb = GaussianNB()\n",
    "\n",
    "# Train the models\n",
    "Logistic_reg.fit(x_train, y_train)\n",
    "knn.fit(x_train, y_train)\n",
    "tree.fit(x_train, y_train)\n",
    "gaussian_nb.fit(x_train, y_train)\n",
    "# Make predictions\n",
    "y_pred_log = Logistic_reg.predict(x_test)\n",
    "y_pred_knn = knn.predict(x_test)\n",
    "y_pred_tree= tree.predict(x_test)\n",
    "y_pred_gaussian = gaussian_nb.predict(x_test)\n",
    "print(y_pred_log)\n",
    "print(y_pred_knn)\n",
    "print(y_pred_tree)\n",
    "print(y_pred_gaussian)"
   ]
  },
  {
   "cell_type": "code",
   "execution_count": 13,
   "id": "33bc2aa0",
   "metadata": {},
   "outputs": [],
   "source": [
    "from sklearn.metrics import accuracy_score, precision_score, recall_score, f1_score\n",
    "\n",
    "def Evaluate(y_test, y_pred):\n",
    "    accuracy = accuracy_score(y_test, y_pred)\n",
    "    precision = precision_score(y_test, y_pred)\n",
    "    recall = recall_score(y_test, y_pred)\n",
    "    f1 = f1_score(y_test, y_pred)\n",
    "    print(f\"Accuracy: {accuracy}\")\n",
    "    print(f\"Precision: {precision}\")\n",
    "    print(f\"Recall: {recall}\")\n",
    "    print(f\"F1-score: {f1}\")\n"
   ]
  },
  {
   "cell_type": "code",
   "execution_count": 14,
   "id": "1cab8eaa",
   "metadata": {
    "scrolled": true
   },
   "outputs": [
    {
     "name": "stdout",
     "output_type": "stream",
     "text": [
      "LogisticRegression:\n",
      "Accuracy: 0.7860696517412935\n",
      "Precision: 0.622895622895623\n",
      "Recall: 0.4946524064171123\n",
      "F1-score: 0.5514157973174367\n",
      "\n",
      "K-Nearest Neighbors:\n",
      "Accuracy: 0.7562189054726368\n",
      "Precision: 0.5434173669467787\n",
      "Recall: 0.5187165775401069\n",
      "F1-score: 0.5307797537619698\n",
      "\n",
      "DecisionTree\n",
      "Accuracy: 0.7171286425017769\n",
      "Precision: 0.47029702970297027\n",
      "Recall: 0.5080213903743316\n",
      "F1-score: 0.4884318766066838\n",
      "\n",
      "Gaussian:\n",
      "Accuracy: 0.7377398720682303\n",
      "Precision: 0.5046382189239332\n",
      "Recall: 0.7272727272727273\n",
      "F1-score: 0.5958378970427163\n"
     ]
    }
   ],
   "source": [
    "from sklearn.metrics import mean_absolute_error, mean_squared_error, r2_score\n",
    "\n",
    "# Evaluate Linear Regression\n",
    "print(\"LogisticRegression:\")\n",
    "Evaluate(y_test, y_pred_log)\n",
    "  \n",
    "\n",
    "# Evaluate K-Nearest Neighbors\n",
    "print(\"\\nK-Nearest Neighbors:\")\n",
    "Evaluate(y_test, y_pred_knn)\n",
    "\n",
    "print(\"\\nDecisionTree\")\n",
    "Evaluate(y_test, y_pred_tree)\n",
    "print(\"\\nGaussian:\")\n",
    "Evaluate(y_test, y_pred_gaussian)\n"
   ]
  },
  {
   "cell_type": "code",
   "execution_count": 30,
   "id": "e927a7bb",
   "metadata": {
    "scrolled": true
   },
   "outputs": [
    {
     "name": "stdout",
     "output_type": "stream",
     "text": [
      "Dữ liệu quan trọng sau khi áp dụng SelectKBest:\n",
      "Index(['SeniorCitizen', 'Partner', 'Dependents', 'tenure', 'MultipleLines',\n",
      "       'InternetService', 'OnlineSecurity', 'OnlineBackup', 'DeviceProtection',\n",
      "       'TechSupport', 'StreamingTV', 'Contract', 'PaperlessBilling',\n",
      "       'PaymentMethod', 'MonthlyCharges', 'TotalCharges'],\n",
      "      dtype='object')\n"
     ]
    }
   ],
   "source": [
    "from sklearn.feature_selection import SelectKBest, f_classif\n",
    "selector = SelectKBest(score_func=f_classif, k=16)\n",
    "x_train_new = selector.fit_transform(x_train, y_train)\n",
    "x_test_new = selector.transform(x_test)\n",
    "selected_features = selector.get_support(indices=True)\n",
    "selected_column_names = df.columns[selected_features]\n",
    "print(\"Dữ liệu quan trọng sau khi áp dụng SelectKBest:\")\n",
    "print(selected_column_names)"
   ]
  },
  {
   "cell_type": "code",
   "execution_count": 31,
   "id": "22708360",
   "metadata": {},
   "outputs": [],
   "source": [
    "# Train the models\n",
    "Logistic_reg.fit(x_train_new, y_train)\n",
    "knn.fit(x_train_new, y_train)\n",
    "tree.fit(x_train_new, y_train)\n",
    "gaussian_nb.fit(x_train_new, y_train)\n",
    "# Make predictions\n",
    "y_pred_log = Logistic_reg.predict(x_test_new)\n",
    "y_pred_knn = knn.predict(x_test_new)\n",
    "y_pred_tree= tree.predict(x_test_new)\n",
    "y_pred_gaussian = gaussian_nb.predict(x_test_new)\n"
   ]
  },
  {
   "cell_type": "code",
   "execution_count": 32,
   "id": "0c471796",
   "metadata": {},
   "outputs": [
    {
     "name": "stdout",
     "output_type": "stream",
     "text": [
      "LogisticRegression:\n",
      "Accuracy: 0.7917555081734187\n",
      "Precision: 0.6327868852459017\n",
      "Recall: 0.516042780748663\n",
      "F1-score: 0.5684830633284241\n",
      "\n",
      "K-Nearest Neighbors:\n",
      "Accuracy: 0.7505330490405118\n",
      "Precision: 0.5316804407713499\n",
      "Recall: 0.516042780748663\n",
      "F1-score: 0.5237449118046132\n",
      "\n",
      "DecisionTree\n",
      "Accuracy: 0.7213930348258707\n",
      "Precision: 0.47738693467336685\n",
      "Recall: 0.5080213903743316\n",
      "F1-score: 0.4922279792746114\n",
      "\n",
      "Gaussian:\n",
      "Accuracy: 0.7412935323383084\n",
      "Precision: 0.5093632958801498\n",
      "Recall: 0.7272727272727273\n",
      "F1-score: 0.5991189427312774\n"
     ]
    }
   ],
   "source": [
    "# Evaluate Linear Regression\n",
    "print(\"LogisticRegression:\")\n",
    "Evaluate(y_test, y_pred_log)\n",
    "  \n",
    "\n",
    "# Evaluate K-Nearest Neighbors\n",
    "print(\"\\nK-Nearest Neighbors:\")\n",
    "Evaluate(y_test, y_pred_knn)\n",
    "\n",
    "print(\"\\nDecisionTree\")\n",
    "Evaluate(y_test, y_pred_tree)\n",
    "print(\"\\nGaussian:\")\n",
    "Evaluate(y_test, y_pred_gaussian)"
   ]
  },
  {
   "cell_type": "code",
   "execution_count": null,
   "id": "0253827b",
   "metadata": {},
   "outputs": [],
   "source": []
  },
  {
   "cell_type": "code",
   "execution_count": null,
   "id": "02ceebbc",
   "metadata": {},
   "outputs": [],
   "source": []
  },
  {
   "cell_type": "code",
   "execution_count": null,
   "id": "62f057d6",
   "metadata": {},
   "outputs": [],
   "source": []
  },
  {
   "cell_type": "code",
   "execution_count": null,
   "id": "0119eb17",
   "metadata": {},
   "outputs": [],
   "source": []
  }
 ],
 "metadata": {
  "kernelspec": {
   "display_name": "Python 3 (ipykernel)",
   "language": "python",
   "name": "python3"
  },
  "language_info": {
   "codemirror_mode": {
    "name": "ipython",
    "version": 3
   },
   "file_extension": ".py",
   "mimetype": "text/x-python",
   "name": "python",
   "nbconvert_exporter": "python",
   "pygments_lexer": "ipython3",
   "version": "3.11.4"
  }
 },
 "nbformat": 4,
 "nbformat_minor": 5
}
